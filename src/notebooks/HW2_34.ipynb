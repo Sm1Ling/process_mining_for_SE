{
  "cells": [
    {
      "cell_type": "code",
      "execution_count": null,
      "id": "1bfc9a17",
      "metadata": {
        "id": "1bfc9a17"
      },
      "outputs": [],
      "source": [
        "import pandas as pd\n",
        "import pm4py\n",
        "import numpy as np\n",
        "from pm4py.visualization.petri_net import visualizer\n",
        "import matplotlib.pyplot as plt"
      ]
    },
    {
      "cell_type": "code",
      "execution_count": null,
      "id": "1483a224",
      "metadata": {
        "id": "1483a224"
      },
      "outputs": [],
      "source": [
        "df = pd.read_csv(\"C:\\\\Users\\\\alex\\\\PycharmProjects\\\\process_mining_for_SE\\\\src\\\\total_issues.csv\", encoding=\"utf-8\")"
      ]
    },
    {
      "cell_type": "code",
      "execution_count": null,
      "id": "5123d071",
      "metadata": {
        "id": "5123d071"
      },
      "outputs": [],
      "source": [
        "df = df.rename(columns= {\n",
        "    ' \"creation_date\"': \"creation_date\",\n",
        "    ' \"labels\"': \"label\",\n",
        "    ' \"id\"': \"id\",\n",
        "    ' \"title_len\"': \"title_len\",\n",
        "    ' \"last_modified_date\"': \"last_modified_date\",\n",
        "    ' \"closed_at\"': \"closed_at\",\n",
        "    ' \"author\"': \"author\",\n",
        "    ' \"comments_num\"': \"comments_num\"\n",
        "})"
      ]
    },
    {
      "cell_type": "code",
      "execution_count": null,
      "id": "34f878b2",
      "metadata": {
        "id": "34f878b2",
        "outputId": "0c841aac-4eef-466e-9400-98047641c8d5"
      },
      "outputs": [
        {
          "data": {
            "text/html": [
              "<div>\n",
              "<style scoped>\n",
              "    .dataframe tbody tr th:only-of-type {\n",
              "        vertical-align: middle;\n",
              "    }\n",
              "\n",
              "    .dataframe tbody tr th {\n",
              "        vertical-align: top;\n",
              "    }\n",
              "\n",
              "    .dataframe thead th {\n",
              "        text-align: right;\n",
              "    }\n",
              "</style>\n",
              "<table border=\"1\" class=\"dataframe\">\n",
              "  <thead>\n",
              "    <tr style=\"text-align: right;\">\n",
              "      <th></th>\n",
              "      <th>body_len</th>\n",
              "      <th>creation_date</th>\n",
              "      <th>label</th>\n",
              "      <th>id</th>\n",
              "      <th>title_len</th>\n",
              "      <th>last_modified_date</th>\n",
              "      <th>closed_at</th>\n",
              "      <th>author</th>\n",
              "      <th>comments_num</th>\n",
              "      <th>exist_time</th>\n",
              "    </tr>\n",
              "  </thead>\n",
              "  <tbody>\n",
              "    <tr>\n",
              "      <th>0</th>\n",
              "      <td>348</td>\n",
              "      <td>2022-12-18 14:34:39</td>\n",
              "      <td></td>\n",
              "      <td>1501926561</td>\n",
              "      <td>53</td>\n",
              "      <td>None</td>\n",
              "      <td>2022-12-19 15:28:55</td>\n",
              "      <td>Dmitry Gritsenko</td>\n",
              "      <td>2</td>\n",
              "      <td>24.904444</td>\n",
              "    </tr>\n",
              "    <tr>\n",
              "      <th>1</th>\n",
              "      <td>1056</td>\n",
              "      <td>2022-12-06 13:39:09</td>\n",
              "      <td>enhancement</td>\n",
              "      <td>1479132439</td>\n",
              "      <td>31</td>\n",
              "      <td>None</td>\n",
              "      <td>2022-12-06 13:53:43</td>\n",
              "      <td>Vincent Hugot</td>\n",
              "      <td>5</td>\n",
              "      <td>0.242778</td>\n",
              "    </tr>\n",
              "    <tr>\n",
              "      <th>2</th>\n",
              "      <td>56</td>\n",
              "      <td>2022-12-05 21:02:05</td>\n",
              "      <td></td>\n",
              "      <td>1477431843</td>\n",
              "      <td>29</td>\n",
              "      <td>None</td>\n",
              "      <td>2022-12-09 13:11:19</td>\n",
              "      <td>Jitendra Mishra</td>\n",
              "      <td>2</td>\n",
              "      <td>88.153889</td>\n",
              "    </tr>\n",
              "    <tr>\n",
              "      <th>3</th>\n",
              "      <td>69</td>\n",
              "      <td>2022-12-05 15:14:20</td>\n",
              "      <td></td>\n",
              "      <td>1476790138</td>\n",
              "      <td>37</td>\n",
              "      <td>None</td>\n",
              "      <td>2022-12-09 03:36:45</td>\n",
              "      <td>Jitendra Mishra</td>\n",
              "      <td>10</td>\n",
              "      <td>84.373611</td>\n",
              "    </tr>\n",
              "    <tr>\n",
              "      <th>4</th>\n",
              "      <td>101</td>\n",
              "      <td>2022-12-05 01:51:18</td>\n",
              "      <td></td>\n",
              "      <td>1475399011</td>\n",
              "      <td>50</td>\n",
              "      <td>None</td>\n",
              "      <td>2022-12-05 14:06:08</td>\n",
              "      <td>Jitendra Mishra</td>\n",
              "      <td>5</td>\n",
              "      <td>12.247222</td>\n",
              "    </tr>\n",
              "    <tr>\n",
              "      <th>...</th>\n",
              "      <td>...</td>\n",
              "      <td>...</td>\n",
              "      <td>...</td>\n",
              "      <td>...</td>\n",
              "      <td>...</td>\n",
              "      <td>...</td>\n",
              "      <td>...</td>\n",
              "      <td>...</td>\n",
              "      <td>...</td>\n",
              "      <td>...</td>\n",
              "    </tr>\n",
              "    <tr>\n",
              "      <th>776</th>\n",
              "      <td>591</td>\n",
              "      <td>2019-01-18 21:28:35</td>\n",
              "      <td>bug</td>\n",
              "      <td>400895477</td>\n",
              "      <td>22</td>\n",
              "      <td>None</td>\n",
              "      <td>2019-01-18 23:48:58</td>\n",
              "      <td>Art</td>\n",
              "      <td>24</td>\n",
              "      <td>2.339722</td>\n",
              "    </tr>\n",
              "    <tr>\n",
              "      <th>777</th>\n",
              "      <td>1432</td>\n",
              "      <td>2019-01-12 10:57:00</td>\n",
              "      <td></td>\n",
              "      <td>398543930</td>\n",
              "      <td>25</td>\n",
              "      <td>None</td>\n",
              "      <td>2019-01-13 09:54:21</td>\n",
              "      <td>None</td>\n",
              "      <td>5</td>\n",
              "      <td>22.955833</td>\n",
              "    </tr>\n",
              "    <tr>\n",
              "      <th>778</th>\n",
              "      <td>0</td>\n",
              "      <td>2019-01-09 13:58:52</td>\n",
              "      <td></td>\n",
              "      <td>397383226</td>\n",
              "      <td>39</td>\n",
              "      <td>None</td>\n",
              "      <td>2019-01-09 14:28:13</td>\n",
              "      <td>None</td>\n",
              "      <td>2</td>\n",
              "      <td>0.489167</td>\n",
              "    </tr>\n",
              "    <tr>\n",
              "      <th>779</th>\n",
              "      <td>43</td>\n",
              "      <td>2019-01-08 11:05:13</td>\n",
              "      <td></td>\n",
              "      <td>396856526</td>\n",
              "      <td>42</td>\n",
              "      <td>None</td>\n",
              "      <td>2019-01-12 13:07:40</td>\n",
              "      <td>Zac Hatfield-Dodds</td>\n",
              "      <td>0</td>\n",
              "      <td>98.040833</td>\n",
              "    </tr>\n",
              "    <tr>\n",
              "      <th>780</th>\n",
              "      <td>1268</td>\n",
              "      <td>2019-01-08 05:31:07</td>\n",
              "      <td></td>\n",
              "      <td>396756470</td>\n",
              "      <td>46</td>\n",
              "      <td>None</td>\n",
              "      <td>2019-01-12 13:07:40</td>\n",
              "      <td>Zac Hatfield-Dodds</td>\n",
              "      <td>2</td>\n",
              "      <td>103.609167</td>\n",
              "    </tr>\n",
              "  </tbody>\n",
              "</table>\n",
              "<p>781 rows × 10 columns</p>\n",
              "</div>"
            ],
            "text/plain": [
              "    body_len       creation_date         label          id  title_len  \\\n",
              "0        348 2022-12-18 14:34:39                1501926561         53   \n",
              "1       1056 2022-12-06 13:39:09   enhancement  1479132439         31   \n",
              "2         56 2022-12-05 21:02:05                1477431843         29   \n",
              "3         69 2022-12-05 15:14:20                1476790138         37   \n",
              "4        101 2022-12-05 01:51:18                1475399011         50   \n",
              "..       ...                 ...           ...         ...        ...   \n",
              "776      591 2019-01-18 21:28:35           bug   400895477         22   \n",
              "777     1432 2019-01-12 10:57:00                 398543930         25   \n",
              "778        0 2019-01-09 13:58:52                 397383226         39   \n",
              "779       43 2019-01-08 11:05:13                 396856526         42   \n",
              "780     1268 2019-01-08 05:31:07                 396756470         46   \n",
              "\n",
              "    last_modified_date           closed_at               author  comments_num  \\\n",
              "0                 None 2022-12-19 15:28:55     Dmitry Gritsenko             2   \n",
              "1                 None 2022-12-06 13:53:43        Vincent Hugot             5   \n",
              "2                 None 2022-12-09 13:11:19      Jitendra Mishra             2   \n",
              "3                 None 2022-12-09 03:36:45      Jitendra Mishra            10   \n",
              "4                 None 2022-12-05 14:06:08      Jitendra Mishra             5   \n",
              "..                 ...                 ...                  ...           ...   \n",
              "776               None 2019-01-18 23:48:58                  Art            24   \n",
              "777               None 2019-01-13 09:54:21                 None             5   \n",
              "778               None 2019-01-09 14:28:13                 None             2   \n",
              "779               None 2019-01-12 13:07:40   Zac Hatfield-Dodds             0   \n",
              "780               None 2019-01-12 13:07:40   Zac Hatfield-Dodds             2   \n",
              "\n",
              "     exist_time  \n",
              "0     24.904444  \n",
              "1      0.242778  \n",
              "2     88.153889  \n",
              "3     84.373611  \n",
              "4     12.247222  \n",
              "..          ...  \n",
              "776    2.339722  \n",
              "777   22.955833  \n",
              "778    0.489167  \n",
              "779   98.040833  \n",
              "780  103.609167  \n",
              "\n",
              "[781 rows x 10 columns]"
            ]
          },
          "execution_count": 52,
          "metadata": {},
          "output_type": "execute_result"
        }
      ],
      "source": [
        "df"
      ]
    },
    {
      "cell_type": "code",
      "execution_count": null,
      "id": "532700ed",
      "metadata": {
        "id": "532700ed"
      },
      "outputs": [],
      "source": [
        "def convert_delta_to_hours(td):\n",
        "    return td / pd.Timedelta('1 hour')\n",
        "\n",
        "df[\"closed_at\"] = pd.to_datetime(df[\"closed_at\"])\n",
        "df[\"creation_date\"] = pd.to_datetime(df[\"creation_date\"])\n",
        "df[\"exist_time\"] = (df[\"closed_at\"] - df[\"creation_date\"]).map(convert_delta_to_hours)"
      ]
    },
    {
      "cell_type": "markdown",
      "id": "b7e0338f",
      "metadata": {
        "id": "b7e0338f"
      },
      "source": [
        "# Вопрос 2"
      ]
    },
    {
      "cell_type": "code",
      "execution_count": null,
      "id": "b53ecd76",
      "metadata": {
        "id": "b53ecd76",
        "outputId": "274b5814-fa35-41c1-eed3-9dd54f40a169"
      },
      "outputs": [
        {
          "data": {
            "image/png": "[encoded data removed]",
            "text/plain": [
              "<Figure size 432x288 with 1 Axes>"
            ]
          },
          "metadata": {
            "needs_background": "light"
          },
          "output_type": "display_data"
        }
      ],
      "source": [
        "plt.plot(df[\"exist_time\"], df[\"comments_num\"] , 'ro')\n",
        "plt.ylabel('comments')\n",
        "plt.xlabel(\"time hrs\")\n",
        "plt.show()"
      ]
    },
    {
      "cell_type": "code",
      "execution_count": null,
      "id": "f7c632c5",
      "metadata": {
        "id": "f7c632c5",
        "outputId": "5d660008-4a96-466f-bc52-49b922c250b4"
      },
      "outputs": [
        {
          "data": {
            "image/png": "[encoded data removed]",
            "text/plain": [
              "<Figure size 432x288 with 1 Axes>"
            ]
          },
          "metadata": {
            "needs_background": "light"
          },
          "output_type": "display_data"
        }
      ],
      "source": [
        "plt.plot(df[\"exist_time\"], df[\"comments_num\"] , 'ro')\n",
        "plt.ylabel('comments')\n",
        "plt.xlabel(\"time hrs\")\n",
        "plt.axis([0, 3000, 0, 35])\n",
        "plt.show()"
      ]
    },
    {
      "cell_type": "code",
      "execution_count": null,
      "id": "41bcd1e3",
      "metadata": {
        "id": "41bcd1e3",
        "outputId": "80b13656-894a-4505-bc94-27762fdf6888"
      },
      "outputs": [
        {
          "data": {
            "image/png": "[encoded data removed]",
            "text/plain": [
              "<Figure size 432x288 with 1 Axes>"
            ]
          },
          "metadata": {
            "needs_background": "light"
          },
          "output_type": "display_data"
        }
      ],
      "source": [
        "plt.plot(df[\"exist_time\"], df[\"comments_num\"] , 'ro')\n",
        "plt.ylabel('comments')\n",
        "plt.xlabel(\"time hrs\")\n",
        "plt.axis([0, 500, 0, 35])\n",
        "plt.show()"
      ]
    },
    {
      "cell_type": "markdown",
      "id": "20dc8aa0",
      "metadata": {
        "id": "20dc8aa0"
      },
      "source": [
        "# Вопрос 3"
      ]
    },
    {
      "cell_type": "code",
      "execution_count": null,
      "id": "a6563079",
      "metadata": {
        "id": "a6563079",
        "outputId": "386eb601-2d44-45fa-99a3-b5ae058c577d"
      },
      "outputs": [
        {
          "data": {
            "text/plain": [
              "                     606\n",
              " question            115\n",
              " enhancement          32\n",
              " bug                  12\n",
              " discussion            8\n",
              " add to docs           6\n",
              " good first issue      2\n",
              "Name: label, dtype: int64"
            ]
          },
          "execution_count": 64,
          "metadata": {},
          "output_type": "execute_result"
        }
      ],
      "source": [
        "df['label'].value_counts()"
      ]
    },
    {
      "cell_type": "code",
      "execution_count": null,
      "id": "5b15ea7e",
      "metadata": {
        "id": "5b15ea7e",
        "outputId": "d10a3e83-49de-4901-ef02-015df5be9a7a"
      },
      "outputs": [
        {
          "data": {
            "image/png": "[encoded data removed]",
            "text/plain": [
              "<Figure size 504x504 with 1 Axes>"
            ]
          },
          "metadata": {
            "needs_background": "light"
          },
          "output_type": "display_data"
        }
      ],
      "source": [
        "plt.plot(df[\"label\"], df[\"exist_time\"] , 'ro')\n",
        "plt.ylabel('time')\n",
        "plt.xlabel(\"tag\", linespacing=30.2)\n",
        "plt.rcParams[\"figure.figsize\"] = (10,10)\n",
        "plt.show()"
      ]
    },
    {
      "cell_type": "code",
      "execution_count": null,
      "id": "621d3130",
      "metadata": {
        "id": "621d3130",
        "outputId": "76369841-c771-4d3d-cfe6-ae9e7b0c43ab"
      },
      "outputs": [
        {
          "data": {
            "image/png": "[encoded data removed]",
            "text/plain": [
              "<Figure size 720x720 with 1 Axes>"
            ]
          },
          "metadata": {
            "needs_background": "light"
          },
          "output_type": "display_data"
        }
      ],
      "source": [
        "plt.plot(df[\"label\"], df[\"exist_time\"] , 'ro')\n",
        "plt.ylabel('comments')\n",
        "plt.xlabel(\"tag\", linespacing=30.2)\n",
        "plt.rcParams[\"figure.figsize\"] = (20,20)\n",
        "plt.ylim(0, 5000)\n",
        "plt.show()"
      ]
    },
    {
      "cell_type": "code",
      "execution_count": null,
      "id": "263bfa48",
      "metadata": {
        "id": "263bfa48",
        "outputId": "e04eb375-baec-429e-f792-da4ed719be32"
      },
      "outputs": [
        {
          "data": {
            "image/png": "[encoded data removed]",
            "text/plain": [
              "<Figure size 720x720 with 1 Axes>"
            ]
          },
          "metadata": {
            "needs_background": "light"
          },
          "output_type": "display_data"
        }
      ],
      "source": [
        "plt.plot(df[\"label\"], df[\"comments_num\"] , 'ro')\n",
        "plt.ylabel('comments')\n",
        "plt.xlabel(\"tag\", linespacing=30.2)\n",
        "plt.rcParams[\"figure.figsize\"] = (7,7)\n",
        "plt.show()"
      ]
    },
    {
      "cell_type": "code",
      "execution_count": null,
      "id": "4c5e65f9",
      "metadata": {
        "id": "4c5e65f9"
      },
      "outputs": [],
      "source": []
    }
  ],
  "metadata": {
    "kernelspec": {
      "display_name": "Python 3 (ipykernel)",
      "language": "python",
      "name": "python3"
    },
    "language_info": {
      "codemirror_mode": {
        "name": "ipython",
        "version": 3
      },
      "file_extension": ".py",
      "mimetype": "text/x-python",
      "name": "python",
      "nbconvert_exporter": "python",
      "pygments_lexer": "ipython3",
      "version": "3.9.6"
    },
    "colab": {
      "provenance": []
    }
  },
  "nbformat": 4,
  "nbformat_minor": 5
}