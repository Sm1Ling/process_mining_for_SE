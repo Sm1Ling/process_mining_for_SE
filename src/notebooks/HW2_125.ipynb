{
  "cells": [
    {
      "cell_type": "code",
      "execution_count": null,
      "id": "a4dd50e6",
      "metadata": {
        "id": "a4dd50e6"
      },
      "outputs": [],
      "source": [
        "import pandas as pd\n",
        "import pm4py\n",
        "import numpy as np\n",
        "from pm4py.visualization.petri_net import visualizer"
      ]
    },
    {
      "cell_type": "code",
      "execution_count": null,
      "id": "04e790ed",
      "metadata": {
        "id": "04e790ed"
      },
      "outputs": [],
      "source": [
        "df = pd.read_csv(\"C:\\\\Users\\\\alex\\\\PycharmProjects\\\\process_mining_for_SE\\\\resources\\\\total.csv\")"
      ]
    },
    {
      "cell_type": "code",
      "execution_count": null,
      "id": "5a3bffe5",
      "metadata": {
        "id": "5a3bffe5"
      },
      "outputs": [],
      "source": [
        "df['size'] = (2*df['additions'] + df['deletions']) / 3"
      ]
    },
    {
      "cell_type": "code",
      "execution_count": null,
      "id": "4a826471",
      "metadata": {
        "id": "4a826471",
        "outputId": "a226f755-00c2-4252-e309-34d57cafc4bb"
      },
      "outputs": [
        {
          "data": {
            "text/plain": [
              "<AxesSubplot:>"
            ]
          },
          "execution_count": 4,
          "metadata": {},
          "output_type": "execute_result"
        },
        {
          "data": {
            "image/png": "[encoded data removed]",
            "text/plain": [
              "<Figure size 432x288 with 1 Axes>"
            ]
          },
          "metadata": {
            "needs_background": "light"
          },
          "output_type": "display_data"
        }
      ],
      "source": [
        "df['size'].value_counts().hist(bins=500)"
      ]
    },
    {
      "cell_type": "code",
      "execution_count": null,
      "id": "e6808124",
      "metadata": {
        "id": "e6808124"
      },
      "outputs": [],
      "source": [
        "conditions = [\n",
        "    (df['size'] < 5.0),\n",
        "    (df['size'] >= 5.0) & (df['size'] < 30.0),\n",
        "    (df['size'] >= 30.0)\n",
        "    ]\n",
        "# create a list of the values we want to assign for each condition\n",
        "values = ['small', 'medium', 'big']\n",
        "\n",
        "# create a new column and use np.select to assign values to it using our lists as arguments\n",
        "df['size_label'] = np.select(conditions, values)"
      ]
    },
    {
      "cell_type": "code",
      "execution_count": null,
      "id": "fd244c27",
      "metadata": {
        "id": "fd244c27",
        "outputId": "ffe11e60-5e7e-4eeb-f861-a764176d1905"
      },
      "outputs": [
        {
          "data": {
            "text/plain": [
              "<AxesSubplot:>"
            ]
          },
          "execution_count": 6,
          "metadata": {},
          "output_type": "execute_result"
        },
        {
          "data": {
            "image/png": "[encoded data removed]",
            "text/plain": [
              "<Figure size 432x288 with 1 Axes>"
            ]
          },
          "metadata": {
            "needs_background": "light"
          },
          "output_type": "display_data"
        }
      ],
      "source": [
        "df['size_label'].hist()"
      ]
    },
    {
      "cell_type": "code",
      "execution_count": null,
      "id": "daf20427",
      "metadata": {
        "id": "daf20427",
        "outputId": "ef81cb45-1bb0-43e9-dc1d-4a3a9d9505b8"
      },
      "outputs": [
        {
          "data": {
            "text/plain": [
              "small     704\n",
              "medium    647\n",
              "big       483\n",
              "Name: size_label, dtype: int64"
            ]
          },
          "execution_count": 7,
          "metadata": {},
          "output_type": "execute_result"
        }
      ],
      "source": [
        "df['size_label'].value_counts()"
      ]
    },
    {
      "cell_type": "code",
      "execution_count": null,
      "id": "88a79b00",
      "metadata": {
        "id": "88a79b00",
        "outputId": "8f937c45-f057-48a7-de80-cc1945aa7bb5"
      },
      "outputs": [
        {
          "data": {
            "text/html": [
              "<div>\n",
              "<style scoped>\n",
              "    .dataframe tbody tr th:only-of-type {\n",
              "        vertical-align: middle;\n",
              "    }\n",
              "\n",
              "    .dataframe tbody tr th {\n",
              "        vertical-align: top;\n",
              "    }\n",
              "\n",
              "    .dataframe thead th {\n",
              "        text-align: right;\n",
              "    }\n",
              "</style>\n",
              "<table border=\"1\" class=\"dataframe\">\n",
              "  <thead>\n",
              "    <tr style=\"text-align: right;\">\n",
              "      <th></th>\n",
              "      <th>Unnamed: 0</th>\n",
              "      <th>author</th>\n",
              "      <th>date</th>\n",
              "      <th>sha</th>\n",
              "      <th>parent</th>\n",
              "      <th>files_num</th>\n",
              "      <th>additions</th>\n",
              "      <th>deletions</th>\n",
              "      <th>size</th>\n",
              "      <th>size_label</th>\n",
              "    </tr>\n",
              "  </thead>\n",
              "  <tbody>\n",
              "    <tr>\n",
              "      <th>0</th>\n",
              "      <td>0</td>\n",
              "      <td>Erez Shinan</td>\n",
              "      <td>Fri, 21 Jan 2022 07:51:58 GMT</td>\n",
              "      <td>ee27eb47ddbb24acbecb17f80c3878fe7cb70c01</td>\n",
              "      <td>['343c22e21802fa19d44cc0fff1a0d8c6f1b07244', '...</td>\n",
              "      <td>6</td>\n",
              "      <td>77</td>\n",
              "      <td>51</td>\n",
              "      <td>68.333333</td>\n",
              "      <td>big</td>\n",
              "    </tr>\n",
              "    <tr>\n",
              "      <th>1</th>\n",
              "      <td>1</td>\n",
              "      <td>Patrick Lannigan</td>\n",
              "      <td>Fri, 21 Jan 2022 07:51:58 GMT</td>\n",
              "      <td>c9c01405a00c24cc2ac518090deee4816b901135</td>\n",
              "      <td>['164642646b6c01e6ba2f0278f4f84344385b2f53']</td>\n",
              "      <td>3</td>\n",
              "      <td>11</td>\n",
              "      <td>33</td>\n",
              "      <td>18.333333</td>\n",
              "      <td>medium</td>\n",
              "    </tr>\n",
              "    <tr>\n",
              "      <th>2</th>\n",
              "      <td>2</td>\n",
              "      <td>Patrick Lannigan</td>\n",
              "      <td>Fri, 21 Jan 2022 07:51:58 GMT</td>\n",
              "      <td>164642646b6c01e6ba2f0278f4f84344385b2f53</td>\n",
              "      <td>['732143a708eeef9e76da992684213deb5ef507df']</td>\n",
              "      <td>3</td>\n",
              "      <td>33</td>\n",
              "      <td>11</td>\n",
              "      <td>25.666667</td>\n",
              "      <td>medium</td>\n",
              "    </tr>\n",
              "    <tr>\n",
              "      <th>3</th>\n",
              "      <td>3</td>\n",
              "      <td>Patrick Lannigan</td>\n",
              "      <td>Fri, 21 Jan 2022 07:51:58 GMT</td>\n",
              "      <td>732143a708eeef9e76da992684213deb5ef507df</td>\n",
              "      <td>['acf2a26329db479f22fa8a6e0570967366a65d99']</td>\n",
              "      <td>1</td>\n",
              "      <td>9</td>\n",
              "      <td>9</td>\n",
              "      <td>9.000000</td>\n",
              "      <td>medium</td>\n",
              "    </tr>\n",
              "    <tr>\n",
              "      <th>4</th>\n",
              "      <td>4</td>\n",
              "      <td>Patrick Lannigan</td>\n",
              "      <td>Fri, 21 Jan 2022 07:51:58 GMT</td>\n",
              "      <td>acf2a26329db479f22fa8a6e0570967366a65d99</td>\n",
              "      <td>['8a8b70d81a16b3bb146d14abf0bad4e2b61a40d7']</td>\n",
              "      <td>2</td>\n",
              "      <td>7</td>\n",
              "      <td>6</td>\n",
              "      <td>6.666667</td>\n",
              "      <td>medium</td>\n",
              "    </tr>\n",
              "  </tbody>\n",
              "</table>\n",
              "</div>"
            ],
            "text/plain": [
              "   Unnamed: 0            author                           date  \\\n",
              "0           0       Erez Shinan  Fri, 21 Jan 2022 07:51:58 GMT   \n",
              "1           1  Patrick Lannigan  Fri, 21 Jan 2022 07:51:58 GMT   \n",
              "2           2  Patrick Lannigan  Fri, 21 Jan 2022 07:51:58 GMT   \n",
              "3           3  Patrick Lannigan  Fri, 21 Jan 2022 07:51:58 GMT   \n",
              "4           4  Patrick Lannigan  Fri, 21 Jan 2022 07:51:58 GMT   \n",
              "\n",
              "                                        sha  \\\n",
              "0  ee27eb47ddbb24acbecb17f80c3878fe7cb70c01   \n",
              "1  c9c01405a00c24cc2ac518090deee4816b901135   \n",
              "2  164642646b6c01e6ba2f0278f4f84344385b2f53   \n",
              "3  732143a708eeef9e76da992684213deb5ef507df   \n",
              "4  acf2a26329db479f22fa8a6e0570967366a65d99   \n",
              "\n",
              "                                              parent  files_num  additions  \\\n",
              "0  ['343c22e21802fa19d44cc0fff1a0d8c6f1b07244', '...          6         77   \n",
              "1       ['164642646b6c01e6ba2f0278f4f84344385b2f53']          3         11   \n",
              "2       ['732143a708eeef9e76da992684213deb5ef507df']          3         33   \n",
              "3       ['acf2a26329db479f22fa8a6e0570967366a65d99']          1          9   \n",
              "4       ['8a8b70d81a16b3bb146d14abf0bad4e2b61a40d7']          2          7   \n",
              "\n",
              "   deletions       size size_label  \n",
              "0         51  68.333333        big  \n",
              "1         33  18.333333     medium  \n",
              "2         11  25.666667     medium  \n",
              "3          9   9.000000     medium  \n",
              "4          6   6.666667     medium  "
            ]
          },
          "execution_count": 8,
          "metadata": {},
          "output_type": "execute_result"
        }
      ],
      "source": [
        "df.head()"
      ]
    },
    {
      "cell_type": "markdown",
      "id": "7a534318",
      "metadata": {
        "id": "7a534318"
      },
      "source": [
        "# Question 1"
      ]
    },
    {
      "cell_type": "code",
      "execution_count": null,
      "id": "cec15b0b",
      "metadata": {
        "id": "cec15b0b"
      },
      "outputs": [],
      "source": [
        "def calc_per_day(df):\n",
        "    res = {}\n",
        "    for index, row in df.iterrows():\n",
        "        date = row['date'].date()\n",
        "        if date in res:\n",
        "            res[date][0] += (2*row['additions'] + row['deletions']) / 3\n",
        "            res[date][1] += 1\n",
        "        else:\n",
        "            res[date] = [(2*row['additions'] + row['deletions']) / 3, 1]\n",
        "    return res"
      ]
    },
    {
      "cell_type": "code",
      "execution_count": null,
      "id": "5e8047ab",
      "metadata": {
        "id": "5e8047ab"
      },
      "outputs": [],
      "source": [
        "per_day = calc_per_day(df)"
      ]
    },
    {
      "cell_type": "code",
      "execution_count": null,
      "id": "fdeb94dc",
      "metadata": {
        "id": "fdeb94dc"
      },
      "outputs": [],
      "source": [
        "df_1 = pd.DataFrame.from_dict(per_day, orient=\"index\", columns = [\"value\", \"commits_num\"])"
      ]
    },
    {
      "cell_type": "code",
      "execution_count": null,
      "id": "afe0ba70",
      "metadata": {
        "id": "afe0ba70"
      },
      "outputs": [],
      "source": [
        "df_1 = df_1.sort_index().reset_index()\n",
        "df_1 = df_1.rename(columns={\"index\": \"date\"})"
      ]
    },
    {
      "cell_type": "code",
      "execution_count": null,
      "id": "a9d06d0d",
      "metadata": {
        "id": "a9d06d0d",
        "outputId": "2ee7691d-fd8e-484c-a652-3a6bd82ae33c"
      },
      "outputs": [
        {
          "data": {
            "text/html": [
              "<div>\n",
              "<style scoped>\n",
              "    .dataframe tbody tr th:only-of-type {\n",
              "        vertical-align: middle;\n",
              "    }\n",
              "\n",
              "    .dataframe tbody tr th {\n",
              "        vertical-align: top;\n",
              "    }\n",
              "\n",
              "    .dataframe thead th {\n",
              "        text-align: right;\n",
              "    }\n",
              "</style>\n",
              "<table border=\"1\" class=\"dataframe\">\n",
              "  <thead>\n",
              "    <tr style=\"text-align: right;\">\n",
              "      <th></th>\n",
              "      <th>date</th>\n",
              "      <th>value</th>\n",
              "      <th>commits_num</th>\n",
              "    </tr>\n",
              "  </thead>\n",
              "  <tbody>\n",
              "    <tr>\n",
              "      <th>0</th>\n",
              "      <td>2017-02-07</td>\n",
              "      <td>2438.000000</td>\n",
              "      <td>18</td>\n",
              "    </tr>\n",
              "    <tr>\n",
              "      <th>1</th>\n",
              "      <td>2017-03-20</td>\n",
              "      <td>5690.000000</td>\n",
              "      <td>100</td>\n",
              "    </tr>\n",
              "    <tr>\n",
              "      <th>2</th>\n",
              "      <td>2017-10-31</td>\n",
              "      <td>2782.000000</td>\n",
              "      <td>100</td>\n",
              "    </tr>\n",
              "    <tr>\n",
              "      <th>3</th>\n",
              "      <td>2018-02-28</td>\n",
              "      <td>5469.666667</td>\n",
              "      <td>100</td>\n",
              "    </tr>\n",
              "    <tr>\n",
              "      <th>4</th>\n",
              "      <td>2018-07-11</td>\n",
              "      <td>4944.000000</td>\n",
              "      <td>100</td>\n",
              "    </tr>\n",
              "    <tr>\n",
              "      <th>5</th>\n",
              "      <td>2018-12-12</td>\n",
              "      <td>3286.333333</td>\n",
              "      <td>100</td>\n",
              "    </tr>\n",
              "    <tr>\n",
              "      <th>6</th>\n",
              "      <td>2019-04-08</td>\n",
              "      <td>3000.666667</td>\n",
              "      <td>100</td>\n",
              "    </tr>\n",
              "    <tr>\n",
              "      <th>7</th>\n",
              "      <td>2019-08-23</td>\n",
              "      <td>6.333333</td>\n",
              "      <td>1</td>\n",
              "    </tr>\n",
              "    <tr>\n",
              "      <th>8</th>\n",
              "      <td>2019-09-06</td>\n",
              "      <td>4649.000000</td>\n",
              "      <td>100</td>\n",
              "    </tr>\n",
              "    <tr>\n",
              "      <th>9</th>\n",
              "      <td>2019-12-26</td>\n",
              "      <td>21.333333</td>\n",
              "      <td>1</td>\n",
              "    </tr>\n",
              "    <tr>\n",
              "      <th>10</th>\n",
              "      <td>2020-03-12</td>\n",
              "      <td>4404.000000</td>\n",
              "      <td>100</td>\n",
              "    </tr>\n",
              "    <tr>\n",
              "      <th>11</th>\n",
              "      <td>2020-06-28</td>\n",
              "      <td>5351.666667</td>\n",
              "      <td>100</td>\n",
              "    </tr>\n",
              "    <tr>\n",
              "      <th>12</th>\n",
              "      <td>2020-07-02</td>\n",
              "      <td>81.333333</td>\n",
              "      <td>1</td>\n",
              "    </tr>\n",
              "    <tr>\n",
              "      <th>13</th>\n",
              "      <td>2020-08-16</td>\n",
              "      <td>4046.666667</td>\n",
              "      <td>100</td>\n",
              "    </tr>\n",
              "    <tr>\n",
              "      <th>14</th>\n",
              "      <td>2020-09-19</td>\n",
              "      <td>17121.333333</td>\n",
              "      <td>100</td>\n",
              "    </tr>\n",
              "    <tr>\n",
              "      <th>15</th>\n",
              "      <td>2020-11-09</td>\n",
              "      <td>4501.666667</td>\n",
              "      <td>100</td>\n",
              "    </tr>\n",
              "    <tr>\n",
              "      <th>16</th>\n",
              "      <td>2020-11-17</td>\n",
              "      <td>27.000000</td>\n",
              "      <td>2</td>\n",
              "    </tr>\n",
              "    <tr>\n",
              "      <th>17</th>\n",
              "      <td>2021-01-19</td>\n",
              "      <td>5408.666667</td>\n",
              "      <td>100</td>\n",
              "    </tr>\n",
              "    <tr>\n",
              "      <th>18</th>\n",
              "      <td>2021-04-20</td>\n",
              "      <td>55.333333</td>\n",
              "      <td>3</td>\n",
              "    </tr>\n",
              "    <tr>\n",
              "      <th>19</th>\n",
              "      <td>2021-06-05</td>\n",
              "      <td>4640.000000</td>\n",
              "      <td>100</td>\n",
              "    </tr>\n",
              "    <tr>\n",
              "      <th>20</th>\n",
              "      <td>2021-09-19</td>\n",
              "      <td>2817.333333</td>\n",
              "      <td>77</td>\n",
              "    </tr>\n",
              "    <tr>\n",
              "      <th>21</th>\n",
              "      <td>2022-01-21</td>\n",
              "      <td>5315.333333</td>\n",
              "      <td>100</td>\n",
              "    </tr>\n",
              "    <tr>\n",
              "      <th>22</th>\n",
              "      <td>2022-01-23</td>\n",
              "      <td>3350.333333</td>\n",
              "      <td>100</td>\n",
              "    </tr>\n",
              "    <tr>\n",
              "      <th>23</th>\n",
              "      <td>2022-02-08</td>\n",
              "      <td>612.666667</td>\n",
              "      <td>14</td>\n",
              "    </tr>\n",
              "    <tr>\n",
              "      <th>24</th>\n",
              "      <td>2022-09-16</td>\n",
              "      <td>2601.000000</td>\n",
              "      <td>100</td>\n",
              "    </tr>\n",
              "    <tr>\n",
              "      <th>25</th>\n",
              "      <td>2022-10-07</td>\n",
              "      <td>75.000000</td>\n",
              "      <td>4</td>\n",
              "    </tr>\n",
              "    <tr>\n",
              "      <th>26</th>\n",
              "      <td>2022-10-25</td>\n",
              "      <td>9.000000</td>\n",
              "      <td>3</td>\n",
              "    </tr>\n",
              "    <tr>\n",
              "      <th>27</th>\n",
              "      <td>2022-10-27</td>\n",
              "      <td>414.666667</td>\n",
              "      <td>10</td>\n",
              "    </tr>\n",
              "  </tbody>\n",
              "</table>\n",
              "</div>"
            ],
            "text/plain": [
              "          date         value  commits_num\n",
              "0   2017-02-07   2438.000000           18\n",
              "1   2017-03-20   5690.000000          100\n",
              "2   2017-10-31   2782.000000          100\n",
              "3   2018-02-28   5469.666667          100\n",
              "4   2018-07-11   4944.000000          100\n",
              "5   2018-12-12   3286.333333          100\n",
              "6   2019-04-08   3000.666667          100\n",
              "7   2019-08-23      6.333333            1\n",
              "8   2019-09-06   4649.000000          100\n",
              "9   2019-12-26     21.333333            1\n",
              "10  2020-03-12   4404.000000          100\n",
              "11  2020-06-28   5351.666667          100\n",
              "12  2020-07-02     81.333333            1\n",
              "13  2020-08-16   4046.666667          100\n",
              "14  2020-09-19  17121.333333          100\n",
              "15  2020-11-09   4501.666667          100\n",
              "16  2020-11-17     27.000000            2\n",
              "17  2021-01-19   5408.666667          100\n",
              "18  2021-04-20     55.333333            3\n",
              "19  2021-06-05   4640.000000          100\n",
              "20  2021-09-19   2817.333333           77\n",
              "21  2022-01-21   5315.333333          100\n",
              "22  2022-01-23   3350.333333          100\n",
              "23  2022-02-08    612.666667           14\n",
              "24  2022-09-16   2601.000000          100\n",
              "25  2022-10-07     75.000000            4\n",
              "26  2022-10-25      9.000000            3\n",
              "27  2022-10-27    414.666667           10"
            ]
          },
          "execution_count": 85,
          "metadata": {},
          "output_type": "execute_result"
        }
      ],
      "source": [
        "df_1"
      ]
    },
    {
      "cell_type": "code",
      "execution_count": null,
      "id": "e7e89d2f",
      "metadata": {
        "id": "e7e89d2f"
      },
      "outputs": [],
      "source": [
        "from matplotlib.pyplot import hist"
      ]
    },
    {
      "cell_type": "code",
      "execution_count": null,
      "id": "e4b23951",
      "metadata": {
        "id": "e4b23951",
        "outputId": "a2ad0e70-b7d1-419d-b2c2-b24fdf8cceb3"
      },
      "outputs": [
        {
          "data": {
            "text/plain": [
              "(array([ 2438.        ,  5690.        ,     0.        ,     0.        ,\n",
              "            0.        ,     0.        ,     0.        ,     0.        ,\n",
              "         2782.        ,     0.        ,     0.        ,     0.        ,\n",
              "         5469.66666667,     0.        ,     0.        ,     0.        ,\n",
              "            0.        ,  4944.        ,     0.        ,     0.        ,\n",
              "            0.        ,     0.        ,  3286.33333333,     0.        ,\n",
              "            0.        ,     0.        ,  3000.66666667,     0.        ,\n",
              "            0.        ,     0.        ,     0.        ,  4655.33333333,\n",
              "            0.        ,     0.        ,     0.        ,    21.33333333,\n",
              "            0.        ,  4404.        ,     0.        ,     0.        ,\n",
              "            0.        ,  5433.        ,     0.        ,  4046.66666667,\n",
              "        17121.33333333,  4501.66666667,    27.        ,     0.        ,\n",
              "         5408.66666667,     0.        ,     0.        ,    55.33333333,\n",
              "         4640.        ,     0.        ,     0.        ,     0.        ,\n",
              "         2817.33333333,     0.        ,     0.        ,     0.        ,\n",
              "         8665.66666667,   612.66666667,     0.        ,     0.        ,\n",
              "            0.        ,     0.        ,     0.        ,     0.        ,\n",
              "         2601.        ,   498.66666667]),\n",
              " array([17204.        , 17233.82857143, 17263.65714286, 17293.48571429,\n",
              "        17323.31428571, 17353.14285714, 17382.97142857, 17412.8       ,\n",
              "        17442.62857143, 17472.45714286, 17502.28571429, 17532.11428571,\n",
              "        17561.94285714, 17591.77142857, 17621.6       , 17651.42857143,\n",
              "        17681.25714286, 17711.08571429, 17740.91428571, 17770.74285714,\n",
              "        17800.57142857, 17830.4       , 17860.22857143, 17890.05714286,\n",
              "        17919.88571429, 17949.71428571, 17979.54285714, 18009.37142857,\n",
              "        18039.2       , 18069.02857143, 18098.85714286, 18128.68571429,\n",
              "        18158.51428571, 18188.34285714, 18218.17142857, 18248.        ,\n",
              "        18277.82857143, 18307.65714286, 18337.48571429, 18367.31428571,\n",
              "        18397.14285714, 18426.97142857, 18456.8       , 18486.62857143,\n",
              "        18516.45714286, 18546.28571429, 18576.11428571, 18605.94285714,\n",
              "        18635.77142857, 18665.6       , 18695.42857143, 18725.25714286,\n",
              "        18755.08571429, 18784.91428571, 18814.74285714, 18844.57142857,\n",
              "        18874.4       , 18904.22857143, 18934.05714286, 18963.88571429,\n",
              "        18993.71428571, 19023.54285714, 19053.37142857, 19083.2       ,\n",
              "        19113.02857143, 19142.85714286, 19172.68571429, 19202.51428571,\n",
              "        19232.34285714, 19262.17142857, 19292.        ]),\n",
              " <BarContainer object of 70 artists>)"
            ]
          },
          "execution_count": 102,
          "metadata": {},
          "output_type": "execute_result"
        },
        {
          "data": {
            "image/png": "[encoded data removed]",
            "text/plain": [
              "<Figure size 432x288 with 1 Axes>"
            ]
          },
          "metadata": {
            "needs_background": "light"
          },
          "output_type": "display_data"
        }
      ],
      "source": [
        "hist(df_1['date'], weights = df_1['value'], bins=70)"
      ]
    },
    {
      "cell_type": "code",
      "execution_count": null,
      "id": "fb616f23",
      "metadata": {
        "id": "fb616f23",
        "outputId": "4d6d05b2-0420-4e9b-a41d-9e23c6a12ae6"
      },
      "outputs": [
        {
          "data": {
            "text/plain": [
              "(array([ 18., 100.,   0.,   0.,   0.,   0.,   0.,   0., 100.,   0.,   0.,\n",
              "          0., 100.,   0.,   0.,   0.,   0., 100.,   0.,   0.,   0.,   0.,\n",
              "        100.,   0.,   0.,   0., 100.,   0.,   0.,   0.,   0., 101.,   0.,\n",
              "          0.,   0.,   1.,   0., 100.,   0.,   0.,   0., 101.,   0., 100.,\n",
              "        100., 100.,   2.,   0., 100.,   0.,   0.,   3., 100.,   0.,   0.,\n",
              "          0.,  77.,   0.,   0.,   0., 200.,  14.,   0.,   0.,   0.,   0.,\n",
              "          0.,   0., 100.,  17.]),\n",
              " array([17204.        , 17233.82857143, 17263.65714286, 17293.48571429,\n",
              "        17323.31428571, 17353.14285714, 17382.97142857, 17412.8       ,\n",
              "        17442.62857143, 17472.45714286, 17502.28571429, 17532.11428571,\n",
              "        17561.94285714, 17591.77142857, 17621.6       , 17651.42857143,\n",
              "        17681.25714286, 17711.08571429, 17740.91428571, 17770.74285714,\n",
              "        17800.57142857, 17830.4       , 17860.22857143, 17890.05714286,\n",
              "        17919.88571429, 17949.71428571, 17979.54285714, 18009.37142857,\n",
              "        18039.2       , 18069.02857143, 18098.85714286, 18128.68571429,\n",
              "        18158.51428571, 18188.34285714, 18218.17142857, 18248.        ,\n",
              "        18277.82857143, 18307.65714286, 18337.48571429, 18367.31428571,\n",
              "        18397.14285714, 18426.97142857, 18456.8       , 18486.62857143,\n",
              "        18516.45714286, 18546.28571429, 18576.11428571, 18605.94285714,\n",
              "        18635.77142857, 18665.6       , 18695.42857143, 18725.25714286,\n",
              "        18755.08571429, 18784.91428571, 18814.74285714, 18844.57142857,\n",
              "        18874.4       , 18904.22857143, 18934.05714286, 18963.88571429,\n",
              "        18993.71428571, 19023.54285714, 19053.37142857, 19083.2       ,\n",
              "        19113.02857143, 19142.85714286, 19172.68571429, 19202.51428571,\n",
              "        19232.34285714, 19262.17142857, 19292.        ]),\n",
              " <BarContainer object of 70 artists>)"
            ]
          },
          "execution_count": 106,
          "metadata": {},
          "output_type": "execute_result"
        },
        {
          "data": {
            "image/png": "[encoded data removed]",
            "text/plain": [
              "<Figure size 432x288 with 1 Axes>"
            ]
          },
          "metadata": {
            "needs_background": "light"
          },
          "output_type": "display_data"
        }
      ],
      "source": [
        "hist(df_1['date'], weights = df_1['commits_num'], bins=70)"
      ]
    },
    {
      "cell_type": "markdown",
      "id": "4ca11f93",
      "metadata": {
        "id": "4ca11f93"
      },
      "source": [
        "# Question 2"
      ]
    },
    {
      "cell_type": "code",
      "execution_count": null,
      "id": "19f0f541",
      "metadata": {
        "id": "19f0f541",
        "outputId": "3c53d971-7e17-4b7e-9717-2561f733e209"
      },
      "outputs": [
        {
          "name": "stderr",
          "output_type": "stream",
          "text": [
            "C:\\Users\\alex\\AppData\\Local\\Temp/ipykernel_2464/1982112674.py:1: DeprecatedWarning: format_dataframe is deprecated as of 2.3.0 and will be removed in 3.0.0. the format_dataframe function does not need application anymore.\n",
            "  dataframe = pm4py.format_dataframe(df, case_id='author', activity_key='size_label', timestamp_key='date')\n",
            "c:\\python39\\lib\\site-packages\\pm4py\\utils.py:486: UserWarning: the EventLog class has been deprecated and will be removed in a future release.\n",
            "  warnings.warn(\"the EventLog class has been deprecated and will be removed in a future release.\")\n"
          ]
        }
      ],
      "source": [
        "dataframe = pm4py.format_dataframe(df, case_id='author', activity_key='size_label', timestamp_key='date')\n",
        "event_log = pm4py.convert_to_event_log(dataframe)"
      ]
    },
    {
      "cell_type": "code",
      "execution_count": null,
      "id": "ad77512a",
      "metadata": {
        "id": "ad77512a"
      },
      "outputs": [],
      "source": [
        "tree = pm4py.discover_process_tree_inductive(event_log)"
      ]
    },
    {
      "cell_type": "code",
      "execution_count": null,
      "id": "6acefd8b",
      "metadata": {
        "id": "6acefd8b",
        "outputId": "ae95905a-64a7-46c7-b766-fbd5105f3ff4"
      },
      "outputs": [
        {
          "name": "stderr",
          "output_type": "stream",
          "text": [
            "C:\\Users\\alex\\AppData\\Local\\Temp/ipykernel_2464/3914396393.py:1: DeprecatedWarning: discover_dfg is deprecated as of 2.3.0 and will be removed in 2.4.0. this method will be replaced by the discover_dfg_typed function(). Please adapt your code to use pm4py.discover_dfg_typed()\n",
            "  dfg, start_activities, end_activities = pm4py.discover_dfg(event_log)\n"
          ]
        },
        {
          "data": {
            "image/png": "[encoded data removed]",
            "text/plain": [
              "<IPython.core.display.Image object>"
            ]
          },
          "metadata": {},
          "output_type": "display_data"
        }
      ],
      "source": [
        "dfg, start_activities, end_activities = pm4py.discover_dfg(event_log)\n",
        "pm4py.view_dfg(dfg, start_activities, end_activities)"
      ]
    },
    {
      "cell_type": "markdown",
      "id": "35fb06a1",
      "metadata": {
        "id": "35fb06a1"
      },
      "source": [
        "# Question 5"
      ]
    },
    {
      "cell_type": "code",
      "execution_count": null,
      "id": "baf2156b",
      "metadata": {
        "id": "baf2156b",
        "outputId": "0895ee15-5aa1-4162-e38f-f88b352b0489"
      },
      "outputs": [
        {
          "data": {
            "text/html": [
              "<div>\n",
              "<style scoped>\n",
              "    .dataframe tbody tr th:only-of-type {\n",
              "        vertical-align: middle;\n",
              "    }\n",
              "\n",
              "    .dataframe tbody tr th {\n",
              "        vertical-align: top;\n",
              "    }\n",
              "\n",
              "    .dataframe thead th {\n",
              "        text-align: right;\n",
              "    }\n",
              "</style>\n",
              "<table border=\"1\" class=\"dataframe\">\n",
              "  <thead>\n",
              "    <tr style=\"text-align: right;\">\n",
              "      <th></th>\n",
              "      <th>Unnamed: 0</th>\n",
              "      <th>author</th>\n",
              "      <th>date</th>\n",
              "      <th>sha</th>\n",
              "      <th>parent</th>\n",
              "      <th>files_num</th>\n",
              "      <th>additions</th>\n",
              "      <th>deletions</th>\n",
              "      <th>size</th>\n",
              "      <th>size_label</th>\n",
              "      <th>case</th>\n",
              "      <th>case:concept:name</th>\n",
              "      <th>concept:name</th>\n",
              "      <th>time:timestamp</th>\n",
              "    </tr>\n",
              "  </thead>\n",
              "  <tbody>\n",
              "    <tr>\n",
              "      <th>0</th>\n",
              "      <td>0</td>\n",
              "      <td>Erez Shinan</td>\n",
              "      <td>2022-01-21 07:51:58+00:00</td>\n",
              "      <td>ee27eb47ddbb24acbecb17f80c3878fe7cb70c01</td>\n",
              "      <td>['343c22e21802fa19d44cc0fff1a0d8c6f1b07244', '...</td>\n",
              "      <td>6</td>\n",
              "      <td>77</td>\n",
              "      <td>51</td>\n",
              "      <td>68.333333</td>\n",
              "      <td>big</td>\n",
              "      <td>True</td>\n",
              "      <td>True</td>\n",
              "      <td>big</td>\n",
              "      <td>2022-01-21 07:51:58+00:00</td>\n",
              "    </tr>\n",
              "    <tr>\n",
              "      <th>1</th>\n",
              "      <td>1</td>\n",
              "      <td>Patrick Lannigan</td>\n",
              "      <td>2022-01-21 07:51:58+00:00</td>\n",
              "      <td>c9c01405a00c24cc2ac518090deee4816b901135</td>\n",
              "      <td>['164642646b6c01e6ba2f0278f4f84344385b2f53']</td>\n",
              "      <td>3</td>\n",
              "      <td>11</td>\n",
              "      <td>33</td>\n",
              "      <td>18.333333</td>\n",
              "      <td>medium</td>\n",
              "      <td>True</td>\n",
              "      <td>True</td>\n",
              "      <td>medium</td>\n",
              "      <td>2022-01-21 07:51:58+00:00</td>\n",
              "    </tr>\n",
              "    <tr>\n",
              "      <th>2</th>\n",
              "      <td>2</td>\n",
              "      <td>Patrick Lannigan</td>\n",
              "      <td>2022-01-21 07:51:58+00:00</td>\n",
              "      <td>164642646b6c01e6ba2f0278f4f84344385b2f53</td>\n",
              "      <td>['732143a708eeef9e76da992684213deb5ef507df']</td>\n",
              "      <td>3</td>\n",
              "      <td>33</td>\n",
              "      <td>11</td>\n",
              "      <td>25.666667</td>\n",
              "      <td>medium</td>\n",
              "      <td>True</td>\n",
              "      <td>True</td>\n",
              "      <td>medium</td>\n",
              "      <td>2022-01-21 07:51:58+00:00</td>\n",
              "    </tr>\n",
              "    <tr>\n",
              "      <th>3</th>\n",
              "      <td>3</td>\n",
              "      <td>Patrick Lannigan</td>\n",
              "      <td>2022-01-21 07:51:58+00:00</td>\n",
              "      <td>732143a708eeef9e76da992684213deb5ef507df</td>\n",
              "      <td>['acf2a26329db479f22fa8a6e0570967366a65d99']</td>\n",
              "      <td>1</td>\n",
              "      <td>9</td>\n",
              "      <td>9</td>\n",
              "      <td>9.000000</td>\n",
              "      <td>medium</td>\n",
              "      <td>True</td>\n",
              "      <td>True</td>\n",
              "      <td>medium</td>\n",
              "      <td>2022-01-21 07:51:58+00:00</td>\n",
              "    </tr>\n",
              "    <tr>\n",
              "      <th>4</th>\n",
              "      <td>4</td>\n",
              "      <td>Patrick Lannigan</td>\n",
              "      <td>2022-01-21 07:51:58+00:00</td>\n",
              "      <td>acf2a26329db479f22fa8a6e0570967366a65d99</td>\n",
              "      <td>['8a8b70d81a16b3bb146d14abf0bad4e2b61a40d7']</td>\n",
              "      <td>2</td>\n",
              "      <td>7</td>\n",
              "      <td>6</td>\n",
              "      <td>6.666667</td>\n",
              "      <td>medium</td>\n",
              "      <td>True</td>\n",
              "      <td>True</td>\n",
              "      <td>medium</td>\n",
              "      <td>2022-01-21 07:51:58+00:00</td>\n",
              "    </tr>\n",
              "  </tbody>\n",
              "</table>\n",
              "</div>"
            ],
            "text/plain": [
              "   Unnamed: 0            author                      date  \\\n",
              "0           0       Erez Shinan 2022-01-21 07:51:58+00:00   \n",
              "1           1  Patrick Lannigan 2022-01-21 07:51:58+00:00   \n",
              "2           2  Patrick Lannigan 2022-01-21 07:51:58+00:00   \n",
              "3           3  Patrick Lannigan 2022-01-21 07:51:58+00:00   \n",
              "4           4  Patrick Lannigan 2022-01-21 07:51:58+00:00   \n",
              "\n",
              "                                        sha  \\\n",
              "0  ee27eb47ddbb24acbecb17f80c3878fe7cb70c01   \n",
              "1  c9c01405a00c24cc2ac518090deee4816b901135   \n",
              "2  164642646b6c01e6ba2f0278f4f84344385b2f53   \n",
              "3  732143a708eeef9e76da992684213deb5ef507df   \n",
              "4  acf2a26329db479f22fa8a6e0570967366a65d99   \n",
              "\n",
              "                                              parent  files_num  additions  \\\n",
              "0  ['343c22e21802fa19d44cc0fff1a0d8c6f1b07244', '...          6         77   \n",
              "1       ['164642646b6c01e6ba2f0278f4f84344385b2f53']          3         11   \n",
              "2       ['732143a708eeef9e76da992684213deb5ef507df']          3         33   \n",
              "3       ['acf2a26329db479f22fa8a6e0570967366a65d99']          1          9   \n",
              "4       ['8a8b70d81a16b3bb146d14abf0bad4e2b61a40d7']          2          7   \n",
              "\n",
              "   deletions       size size_label  case  case:concept:name concept:name  \\\n",
              "0         51  68.333333        big  True               True          big   \n",
              "1         33  18.333333     medium  True               True       medium   \n",
              "2         11  25.666667     medium  True               True       medium   \n",
              "3          9   9.000000     medium  True               True       medium   \n",
              "4          6   6.666667     medium  True               True       medium   \n",
              "\n",
              "             time:timestamp  \n",
              "0 2022-01-21 07:51:58+00:00  \n",
              "1 2022-01-21 07:51:58+00:00  \n",
              "2 2022-01-21 07:51:58+00:00  \n",
              "3 2022-01-21 07:51:58+00:00  \n",
              "4 2022-01-21 07:51:58+00:00  "
            ]
          },
          "execution_count": 107,
          "metadata": {},
          "output_type": "execute_result"
        }
      ],
      "source": [
        "df['case'] = True\n",
        "df.head()"
      ]
    },
    {
      "cell_type": "code",
      "execution_count": null,
      "id": "7a9c4ce3",
      "metadata": {
        "id": "7a9c4ce3",
        "outputId": "cfa44525-406e-42f9-bd41-617b490ffdda"
      },
      "outputs": [
        {
          "name": "stderr",
          "output_type": "stream",
          "text": [
            "C:\\Users\\alex\\AppData\\Local\\Temp/ipykernel_9408/458174612.py:1: DeprecatedWarning: format_dataframe is deprecated as of 2.3.0 and will be removed in 3.0.0. the format_dataframe function does not need application anymore.\n",
            "  all_repo_dataframe = pm4py.format_dataframe(df, case_id='case', activity_key='size_label', timestamp_key='date')\n",
            "c:\\python39\\lib\\site-packages\\pm4py\\utils.py:486: UserWarning: the EventLog class has been deprecated and will be removed in a future release.\n",
            "  warnings.warn(\"the EventLog class has been deprecated and will be removed in a future release.\")\n"
          ]
        }
      ],
      "source": [
        "all_repo_dataframe = pm4py.format_dataframe(df, case_id='case', activity_key='size_label', timestamp_key='date')\n",
        "all_repo_event_log  = pm4py.convert_to_event_log(all_repo_dataframe)"
      ]
    },
    {
      "cell_type": "code",
      "execution_count": null,
      "id": "28d6d7c2",
      "metadata": {
        "id": "28d6d7c2",
        "outputId": "a25aa0ad-0560-4913-8865-a875f6429f50"
      },
      "outputs": [
        {
          "name": "stderr",
          "output_type": "stream",
          "text": [
            "C:\\Users\\alex\\AppData\\Local\\Temp/ipykernel_9408/482669761.py:1: DeprecatedWarning: discover_dfg is deprecated as of 2.3.0 and will be removed in 2.4.0. this method will be replaced by the discover_dfg_typed function(). Please adapt your code to use pm4py.discover_dfg_typed()\n",
            "  dfg, start_activities, end_activities = pm4py.discover_dfg(all_repo_event_log)\n"
          ]
        },
        {
          "data": {
            "image/png": "[encoded data removed]",
            "text/plain": [
              "<IPython.core.display.Image object>"
            ]
          },
          "metadata": {},
          "output_type": "display_data"
        }
      ],
      "source": [
        "dfg, start_activities, end_activities = pm4py.discover_dfg(all_repo_event_log)\n",
        "pm4py.view_dfg(dfg, start_activities, end_activities)"
      ]
    },
    {
      "cell_type": "code",
      "execution_count": null,
      "id": "948bb3b8",
      "metadata": {
        "id": "948bb3b8"
      },
      "outputs": [],
      "source": []
    }
  ],
  "metadata": {
    "kernelspec": {
      "display_name": "Python 3 (ipykernel)",
      "language": "python",
      "name": "python3"
    },
    "language_info": {
      "codemirror_mode": {
        "name": "ipython",
        "version": 3
      },
      "file_extension": ".py",
      "mimetype": "text/x-python",
      "name": "python",
      "nbconvert_exporter": "python",
      "pygments_lexer": "ipython3",
      "version": "3.9.6"
    },
    "colab": {
      "provenance": []
    }
  },
  "nbformat": 4,
  "nbformat_minor": 5
}